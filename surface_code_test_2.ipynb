{
 "cells": [
  {
   "attachments": {},
   "cell_type": "markdown",
   "metadata": {},
   "source": [
    "# Assumptions"
   ]
  },
  {
   "attachments": {},
   "cell_type": "markdown",
   "metadata": {},
   "source": [
    "## 1. There are no measurement errors."
   ]
  },
  {
   "attachments": {},
   "cell_type": "markdown",
   "metadata": {},
   "source": [
    "If we had to account for measurement errors then we would have to run multiple surface codes cycles to infer where the error has occured. There are efficient methods that work for sparse errors but if the error probabilities are high then surface codes cannot correct the errors."
   ]
  },
  {
   "attachments": {},
   "cell_type": "markdown",
   "metadata": {},
   "source": [
    "# Imports"
   ]
  },
  {
   "cell_type": "code",
   "execution_count": 1,
   "metadata": {},
   "outputs": [],
   "source": [
    "from qiskit import QuantumCircuit, QuantumRegister, ClassicalRegister, Aer\n",
    "import numpy as np\n",
    "import matplotlib.pyplot as plt\n",
    "from qiskit.result import marginal_counts"
   ]
  },
  {
   "attachments": {},
   "cell_type": "markdown",
   "metadata": {},
   "source": [
    "# Parameters"
   ]
  },
  {
   "cell_type": "code",
   "execution_count": 2,
   "metadata": {},
   "outputs": [],
   "source": [
    "surface_code_sq = 5"
   ]
  },
  {
   "cell_type": "code",
   "execution_count": 3,
   "metadata": {},
   "outputs": [],
   "source": [
    "if surface_code_sq%2 ==0:\n",
    "    raise Exception('surface_code_sq should be odd')"
   ]
  },
  {
   "cell_type": "code",
   "execution_count": 4,
   "metadata": {},
   "outputs": [],
   "source": [
    "# n,k,d\n",
    "n = (surface_code_sq**2)//2 + 1"
   ]
  },
  {
   "attachments": {},
   "cell_type": "markdown",
   "metadata": {},
   "source": [
    "# Logical Qubit"
   ]
  },
  {
   "cell_type": "code",
   "execution_count": 5,
   "metadata": {},
   "outputs": [],
   "source": [
    "data_qubits = QuantumRegister(n, 'd')\n",
    "ancilla_qubits_1 = QuantumRegister((n-1)//2, 'a1')\n",
    "ancilla_qubits_2 = QuantumRegister((n-1)//2, 'a2')\n",
    "syndrome_cregs_1 = ClassicalRegister((n-1)//2, 's1')\n",
    "syndrome_cregs_2 = ClassicalRegister((n-1)//2, 's2')"
   ]
  },
  {
   "cell_type": "code",
   "execution_count": 6,
   "metadata": {},
   "outputs": [],
   "source": [
    "data_qubits_index = 0\n",
    "ancilla_qubits_1_index = 0\n",
    "ancilla_qubits_2_index = 0\n",
    "\n",
    "logical_qubit_array = []\n",
    "\n",
    "for i in range(surface_code_sq):\n",
    "    if i%2 == 0:\n",
    "        for j in range(surface_code_sq//2):\n",
    "            logical_qubit_array.append(data_qubits[data_qubits_index])\n",
    "            data_qubits_index += 1\n",
    "            logical_qubit_array.append(ancilla_qubits_1[ancilla_qubits_1_index])\n",
    "            ancilla_qubits_1_index += 1\n",
    "        logical_qubit_array.append(data_qubits[data_qubits_index])\n",
    "        data_qubits_index += 1\n",
    "    else:\n",
    "        for j in range(surface_code_sq//2):\n",
    "            logical_qubit_array.append(ancilla_qubits_2[ancilla_qubits_2_index])\n",
    "            ancilla_qubits_2_index += 1\n",
    "            logical_qubit_array.append(data_qubits[data_qubits_index])\n",
    "            data_qubits_index += 1\n",
    "        logical_qubit_array.append(ancilla_qubits_2[ancilla_qubits_2_index])\n",
    "        ancilla_qubits_2_index += 1"
   ]
  },
  {
   "cell_type": "code",
   "execution_count": 7,
   "metadata": {},
   "outputs": [],
   "source": [
    "logical_qubit_array = np.array(logical_qubit_array, dtype=QuantumRegister)"
   ]
  },
  {
   "cell_type": "code",
   "execution_count": 8,
   "metadata": {},
   "outputs": [],
   "source": [
    "logical_qubit_2d = logical_qubit_array.reshape(surface_code_sq, surface_code_sq)"
   ]
  },
  {
   "cell_type": "code",
   "execution_count": 9,
   "metadata": {},
   "outputs": [],
   "source": [
    "ancilla_qubits_1_neighbours = { }\n",
    "ancilla_qubits_2_neighbours = { }\n",
    "\n",
    "for row_index in range(0, surface_code_sq, 2):\n",
    "    for col_index in range(1, surface_code_sq, 2):\n",
    "        ancilla = logical_qubit_2d[row_index, col_index]\n",
    "        neighbours = []\n",
    "        for i, j in ((-1, 0), (0, -1), (0, 1), (1, 0)):\n",
    "            data_qubit_row_index = row_index + i\n",
    "            data_qubit_col_index = col_index + j\n",
    "            if data_qubit_row_index > -1 and data_qubit_col_index > -1 and data_qubit_row_index < surface_code_sq and data_qubit_col_index < surface_code_sq:\n",
    "                data_qubit = logical_qubit_2d[data_qubit_row_index, data_qubit_col_index]\n",
    "                neighbours.append(data_qubit)\n",
    "        ancilla_qubits_1_neighbours[ancilla] = neighbours\n",
    "\n",
    "for row_index in range(1, surface_code_sq, 2):\n",
    "    for col_index in range(0, surface_code_sq, 2):\n",
    "        ancilla = logical_qubit_2d[row_index, col_index]\n",
    "        neighbours = []\n",
    "        for i, j in ((-1, 0), (0, -1), (0, 1), (1, 0)):\n",
    "            data_qubit_row_index = row_index + i\n",
    "            data_qubit_col_index = col_index + j\n",
    "            if data_qubit_row_index > -1 and data_qubit_col_index > -1 and data_qubit_row_index < surface_code_sq and data_qubit_col_index < surface_code_sq:\n",
    "                data_qubit = logical_qubit_2d[data_qubit_row_index, data_qubit_col_index]\n",
    "                neighbours.append(data_qubit)\n",
    "        ancilla_qubits_2_neighbours[ancilla] = neighbours\n",
    "                "
   ]
  },
  {
   "attachments": {},
   "cell_type": "markdown",
   "metadata": {},
   "source": [
    "We no longer need the 2d array `logical_qubit_2d` because we created the neighbours dictionaries"
   ]
  },
  {
   "cell_type": "code",
   "execution_count": 10,
   "metadata": {},
   "outputs": [
    {
     "data": {
      "text/plain": [
       "[Qubit(QuantumRegister(13, 'd'), 0),\n",
       " Qubit(QuantumRegister(13, 'd'), 3),\n",
       " Qubit(QuantumRegister(13, 'd'), 5)]"
      ]
     },
     "execution_count": 10,
     "metadata": {},
     "output_type": "execute_result"
    }
   ],
   "source": [
    "ancilla_qubits_2_neighbours[ancilla_qubits_2[0]]"
   ]
  },
  {
   "cell_type": "code",
   "execution_count": 11,
   "metadata": {},
   "outputs": [],
   "source": [
    "del logical_qubit_2d"
   ]
  },
  {
   "cell_type": "code",
   "execution_count": 12,
   "metadata": {},
   "outputs": [],
   "source": [
    "backend = Aer.get_backend('qasm_simulator')"
   ]
  },
  {
   "attachments": {},
   "cell_type": "markdown",
   "metadata": {},
   "source": [
    "# Test circ"
   ]
  },
  {
   "cell_type": "code",
   "execution_count": 13,
   "metadata": {},
   "outputs": [],
   "source": [
    "def surface_code_encode(qc: QuantumCircuit,\n",
    "                        x_ancilla_qubits_neighbours: dict[QuantumRegister, list[QuantumRegister]],\n",
    "                        z_ancilla_qubits_neighbours: dict[QuantumRegister, list[QuantumRegister]]):\n",
    "    qc.h(list(x_ancilla_qubits_neighbours.keys()))\n",
    "    qc.barrier()\n",
    "    for z_ancilla, neighbour_data_qubits in z_ancilla_qubits_neighbours.items():\n",
    "        for neighbour_data_qubit in neighbour_data_qubits:\n",
    "            qc.cx(neighbour_data_qubit, z_ancilla)\n",
    "        qc.barrier()\n",
    "\n",
    "    for x_ancilla, neighbour_data_qubits in x_ancilla_qubits_neighbours.items():\n",
    "        for neighbour_data_qubit in neighbour_data_qubits:\n",
    "            qc.cx(x_ancilla, neighbour_data_qubit)\n",
    "        qc.barrier()\n",
    "    "
   ]
  },
  {
   "cell_type": "code",
   "execution_count": 31,
   "metadata": {},
   "outputs": [],
   "source": [
    "def surface_code_measure_syndrome(qc: QuantumCircuit, x_ancilla_qubits: QuantumRegister, z_ancilla_qubits: QuantumRegister,\n",
    "                                  x_syndrome_cregs: ClassicalRegister, z_syndrome_cregs: ClassicalRegister):\n",
    "    qc.barrier()\n",
    "    qc.h(x_ancilla_qubits)\n",
    "    qc.barrier()\n",
    "    qc.measure(x_ancilla_qubits, x_syndrome_cregs)\n",
    "    qc.measure(z_ancilla_qubits, z_syndrome_cregs)\n"
   ]
  },
  {
   "cell_type": "code",
   "execution_count": 32,
   "metadata": {},
   "outputs": [],
   "source": [
    "# qc = QuantumCircuit(data_qubits, ancilla_qubits_1, ancilla_qubits_2, syndrome_cregs_1, syndrome_cregs_2)\n",
    "# qc.h(data_qubits)\n",
    "# surface_code_encode(qc=qc,\n",
    "#                     x_ancilla_qubits_neighbours=ancilla_qubits_1_neighbours,\n",
    "#                     z_ancilla_qubits_neighbours=ancilla_qubits_2_neighbours)\n",
    "# surface_code_measure_syndrome(qc=qc,\n",
    "#                               x_ancilla_qubits=ancilla_qubits_1,\n",
    "#                               z_ancilla_qubits=ancilla_qubits_2,\n",
    "#                               x_syndrome_cregs=syndrome_cregs_1,\n",
    "#                               z_syndrome_cregs=syndrome_cregs_2)\n",
    "\n",
    "# qc.draw('mpl')"
   ]
  },
  {
   "cell_type": "code",
   "execution_count": 33,
   "metadata": {},
   "outputs": [
    {
     "data": {
      "text/plain": [
       "[Qubit(QuantumRegister(13, 'd'), 0),\n",
       " Qubit(QuantumRegister(13, 'd'), 3),\n",
       " Qubit(QuantumRegister(13, 'd'), 5)]"
      ]
     },
     "execution_count": 33,
     "metadata": {},
     "output_type": "execute_result"
    }
   ],
   "source": [
    "ancilla_qubits_2_neighbours[ancilla_qubits_2[0]]"
   ]
  },
  {
   "cell_type": "code",
   "execution_count": 34,
   "metadata": {},
   "outputs": [
    {
     "data": {
      "text/plain": [
       "[Qubit(QuantumRegister(13, 'd'), 0),\n",
       " Qubit(QuantumRegister(13, 'd'), 3),\n",
       " Qubit(QuantumRegister(13, 'd'), 5)]"
      ]
     },
     "execution_count": 34,
     "metadata": {},
     "output_type": "execute_result"
    }
   ],
   "source": [
    "ancilla_qubits_2_neighbours[ancilla_qubits_2[0]]"
   ]
  },
  {
   "cell_type": "code",
   "execution_count": 48,
   "metadata": {},
   "outputs": [
    {
     "data": {
      "text/plain": [
       "{'100000 000000 100000 000000 100000 000000 100000 000000': 1,\n",
       " '111110 000000 111110 000000 111110 000000 111110 000000': 1,\n",
       " '110110 000000 110110 000000 110110 000000 110110 000000': 1,\n",
       " '110100 000000 110100 000000 110100 000000 110100 000000': 1,\n",
       " '100001 000000 100001 000000 100001 000000 100001 000000': 1,\n",
       " '010101 000000 010101 000000 010101 000000 010101 000000': 1,\n",
       " '010110 000000 010110 000000 010110 000000 010110 000000': 1,\n",
       " '011101 000000 011101 000000 011101 000000 011101 000000': 1,\n",
       " '001011 000000 001011 000000 001011 000000 001011 000000': 1,\n",
       " '000010 000000 000010 000000 000010 000000 000010 000000': 1}"
      ]
     },
     "execution_count": 48,
     "metadata": {},
     "output_type": "execute_result"
    }
   ],
   "source": [
    "syndrome_cregs_1 = ClassicalRegister((n-1)//2, 's1')\n",
    "syndrome_cregs_2 = ClassicalRegister((n-1)//2, 's2')\n",
    "syndrome_cregs_3 = ClassicalRegister((n-1)//2, 's3')\n",
    "syndrome_cregs_4 = ClassicalRegister((n-1)//2, 's4')\n",
    "syndrome_cregs_5 = ClassicalRegister((n-1)//2, 's5')\n",
    "syndrome_cregs_6 = ClassicalRegister((n-1)//2, 's6')\n",
    "syndrome_cregs_7 = ClassicalRegister((n-1)//2, 's7')\n",
    "syndrome_cregs_8 = ClassicalRegister((n-1)//2, 's8')\n",
    "\n",
    "\n",
    "qc = QuantumCircuit(data_qubits, ancilla_qubits_1, ancilla_qubits_2, syndrome_cregs_1, syndrome_cregs_2, syndrome_cregs_3, syndrome_cregs_4,\n",
    "                    syndrome_cregs_5, syndrome_cregs_6, syndrome_cregs_7, syndrome_cregs_8)\n",
    "qc.h(data_qubits)\n",
    "\n",
    "surface_code_encode(qc=qc,\n",
    "                    x_ancilla_qubits_neighbours=ancilla_qubits_1_neighbours,\n",
    "                    z_ancilla_qubits_neighbours=ancilla_qubits_2_neighbours)\n",
    "\n",
    "surface_code_measure_syndrome(qc=qc,\n",
    "                              x_ancilla_qubits=ancilla_qubits_1,\n",
    "                              z_ancilla_qubits=ancilla_qubits_2,\n",
    "                              x_syndrome_cregs=syndrome_cregs_1,\n",
    "                              z_syndrome_cregs=syndrome_cregs_2)\n",
    "\n",
    "surface_code_encode(qc=qc,\n",
    "                    x_ancilla_qubits_neighbours=ancilla_qubits_1_neighbours,\n",
    "                    z_ancilla_qubits_neighbours=ancilla_qubits_2_neighbours)\n",
    "\n",
    "for i, j in zip(ancilla_qubits_2, syndrome_cregs_2):\n",
    "    qc.x(i).c_if(j, 1)\n",
    "\n",
    "surface_code_measure_syndrome(qc=qc,\n",
    "                              x_ancilla_qubits=ancilla_qubits_1,\n",
    "                              z_ancilla_qubits=ancilla_qubits_2,\n",
    "                              x_syndrome_cregs=syndrome_cregs_3,\n",
    "                              z_syndrome_cregs=syndrome_cregs_4)\n",
    "\n",
    "# qc.z(data_qubits[3])\n",
    "# qc.x(data_qubits[3])\n",
    "\n",
    "surface_code_encode(qc=qc,\n",
    "                    x_ancilla_qubits_neighbours=ancilla_qubits_1_neighbours,\n",
    "                    z_ancilla_qubits_neighbours=ancilla_qubits_2_neighbours)\n",
    "\n",
    "for i, j in zip(ancilla_qubits_2, syndrome_cregs_2):\n",
    "    qc.x(i).c_if(j, 1)\n",
    "\n",
    "surface_code_measure_syndrome(qc=qc,\n",
    "                              x_ancilla_qubits=ancilla_qubits_1,\n",
    "                              z_ancilla_qubits=ancilla_qubits_2,\n",
    "                              x_syndrome_cregs=syndrome_cregs_5,\n",
    "                              z_syndrome_cregs=syndrome_cregs_6)\n",
    "\n",
    "surface_code_encode(qc=qc,\n",
    "                    x_ancilla_qubits_neighbours=ancilla_qubits_1_neighbours,\n",
    "                    z_ancilla_qubits_neighbours=ancilla_qubits_2_neighbours)\n",
    "\n",
    "for i, j in zip(ancilla_qubits_2, syndrome_cregs_2):\n",
    "    qc.x(i).c_if(j, 1)\n",
    "\n",
    "surface_code_measure_syndrome(qc=qc,\n",
    "                              x_ancilla_qubits=ancilla_qubits_1,\n",
    "                              z_ancilla_qubits=ancilla_qubits_2,\n",
    "                              x_syndrome_cregs=syndrome_cregs_7,\n",
    "                              z_syndrome_cregs=syndrome_cregs_8)\n",
    "\n",
    "job = backend.run(qc, shots=10)\n",
    "counts = job.result().get_counts()\n",
    "\n",
    "counts"
   ]
  },
  {
   "cell_type": "code",
   "execution_count": 19,
   "metadata": {},
   "outputs": [],
   "source": [
    "# marginal_counts(counts, range(12, 36))"
   ]
  },
  {
   "cell_type": "code",
   "execution_count": 20,
   "metadata": {},
   "outputs": [],
   "source": [
    "# syndrome_cregs_1 = ClassicalRegister((n-1)//2, 's1')\n",
    "# syndrome_cregs_2 = ClassicalRegister((n-1)//2, 's2')\n",
    "# syndrome_cregs_3 = ClassicalRegister((n-1)//2, 's3')\n",
    "# syndrome_cregs_4 = ClassicalRegister((n-1)//2, 's4')\n",
    "# syndrome_cregs_5 = ClassicalRegister((n-1)//2, 's5')\n",
    "# syndrome_cregs_6 = ClassicalRegister((n-1)//2, 's6')\n",
    "\n",
    "\n",
    "# qc = QuantumCircuit(data_qubits, ancilla_qubits_1, ancilla_qubits_2, syndrome_cregs_1, syndrome_cregs_2, syndrome_cregs_3, syndrome_cregs_4,\n",
    "#                     syndrome_cregs_5, syndrome_cregs_6)\n",
    "# qc.h(data_qubits)\n",
    "\n",
    "# surface_code_encode(qc=qc,\n",
    "#                     x_ancilla_qubits_neighbours=ancilla_qubits_1_neighbours,\n",
    "#                     z_ancilla_qubits_neighbours=ancilla_qubits_2_neighbours)\n",
    "\n",
    "# surface_code_measure_syndrome(qc=qc,\n",
    "#                               x_ancilla_qubits=ancilla_qubits_1,\n",
    "#                               z_ancilla_qubits=ancilla_qubits_2,\n",
    "#                               x_syndrome_cregs=syndrome_cregs_1,\n",
    "#                               z_syndrome_cregs=syndrome_cregs_2)\n",
    "\n",
    "# # qc.x(data_qubits[0]).c_if(syndrome_cregs_2[0], 1)\n",
    "\n",
    "# # surface_code_encode(qc=qc,\n",
    "# #                     x_ancilla_qubits_neighbours=ancilla_qubits_1_neighbours,\n",
    "# #                     z_ancilla_qubits_neighbours=ancilla_qubits_2_neighbours)\n",
    "# # surface_code_measure_syndrome(qc=qc,\n",
    "# #                               x_ancilla_qubits=ancilla_qubits_1,\n",
    "# #                               z_ancilla_qubits=ancilla_qubits_2,\n",
    "# #                               x_syndrome_cregs=syndrome_cregs_3,\n",
    "# #                               z_syndrome_cregs=syndrome_cregs_4)\n",
    "\n",
    "# # surface_code_encode(qc=qc,\n",
    "# #                     x_ancilla_qubits_neighbours=ancilla_qubits_1_neighbours,\n",
    "# #                     z_ancilla_qubits_neighbours=ancilla_qubits_2_neighbours)\n",
    "# # surface_code_measure_syndrome(qc=qc,\n",
    "# #                               x_ancilla_qubits=ancilla_qubits_1,\n",
    "# #                               z_ancilla_qubits=ancilla_qubits_2,\n",
    "# #                               x_syndrome_cregs=syndrome_cregs_5,\n",
    "# #                               z_syndrome_cregs=syndrome_cregs_6)\n",
    "\n",
    "# job = backend.run(qc, shots=1024)\n",
    "# counts = job.result().get_counts()\n",
    "\n",
    "# len(counts)"
   ]
  },
  {
   "cell_type": "code",
   "execution_count": null,
   "metadata": {},
   "outputs": [],
   "source": []
  }
 ],
 "metadata": {
  "kernelspec": {
   "display_name": "qc",
   "language": "python",
   "name": "python3"
  },
  "language_info": {
   "codemirror_mode": {
    "name": "ipython",
    "version": 3
   },
   "file_extension": ".py",
   "mimetype": "text/x-python",
   "name": "python",
   "nbconvert_exporter": "python",
   "pygments_lexer": "ipython3",
   "version": "3.9.16"
  },
  "orig_nbformat": 4
 },
 "nbformat": 4,
 "nbformat_minor": 2
}
